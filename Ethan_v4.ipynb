{
 "cells": [
  {
   "cell_type": "code",
   "execution_count": 80,
   "id": "3fdb3866",
   "metadata": {},
   "outputs": [],
   "source": [
    "import pandas as pd\n",
    "import hvplot.pandas\n",
    "import matplotlib.pyplot as plt\n",
    "import numpy as np\n",
    "import requests\n",
    "from pathlib import Path"
   ]
  },
  {
   "cell_type": "code",
   "execution_count": 81,
   "id": "c4f5f5bb",
   "metadata": {},
   "outputs": [],
   "source": [
    "fantasy_file = Path(\"fantasy_merged_7_17.csv\")"
   ]
  },
  {
   "cell_type": "code",
   "execution_count": 82,
   "id": "72d9ae8c",
   "metadata": {},
   "outputs": [
    {
     "data": {
      "text/html": [
       "<div>\n",
       "<style scoped>\n",
       "    .dataframe tbody tr th:only-of-type {\n",
       "        vertical-align: middle;\n",
       "    }\n",
       "\n",
       "    .dataframe tbody tr th {\n",
       "        vertical-align: top;\n",
       "    }\n",
       "\n",
       "    .dataframe thead th {\n",
       "        text-align: right;\n",
       "    }\n",
       "</style>\n",
       "<table border=\"1\" class=\"dataframe\">\n",
       "  <thead>\n",
       "    <tr style=\"text-align: right;\">\n",
       "      <th></th>\n",
       "      <th>Rk</th>\n",
       "      <th>Player</th>\n",
       "      <th>Tm</th>\n",
       "      <th>FantPos</th>\n",
       "      <th>Age</th>\n",
       "      <th>G</th>\n",
       "      <th>GS</th>\n",
       "      <th>Cmp</th>\n",
       "      <th>Att</th>\n",
       "      <th>Yds</th>\n",
       "      <th>...</th>\n",
       "      <th>Rec</th>\n",
       "      <th>RecYds</th>\n",
       "      <th>YR</th>\n",
       "      <th>RecTD</th>\n",
       "      <th>Fmb</th>\n",
       "      <th>FL</th>\n",
       "      <th>PPR</th>\n",
       "      <th>PlayerID</th>\n",
       "      <th>PosRk</th>\n",
       "      <th>Year</th>\n",
       "    </tr>\n",
       "  </thead>\n",
       "  <tbody>\n",
       "    <tr>\n",
       "      <th>0</th>\n",
       "      <td>1</td>\n",
       "      <td>Todd Gurley</td>\n",
       "      <td>LAR</td>\n",
       "      <td>RB</td>\n",
       "      <td>23</td>\n",
       "      <td>15</td>\n",
       "      <td>15</td>\n",
       "      <td>0</td>\n",
       "      <td>0</td>\n",
       "      <td>0</td>\n",
       "      <td>...</td>\n",
       "      <td>64</td>\n",
       "      <td>788</td>\n",
       "      <td>12.31</td>\n",
       "      <td>6</td>\n",
       "      <td>5</td>\n",
       "      <td>2</td>\n",
       "      <td>383.3</td>\n",
       "      <td>GurlTo01</td>\n",
       "      <td>1.0</td>\n",
       "      <td>2017</td>\n",
       "    </tr>\n",
       "    <tr>\n",
       "      <th>1</th>\n",
       "      <td>2</td>\n",
       "      <td>Russell Wilson</td>\n",
       "      <td>SEA</td>\n",
       "      <td>QB</td>\n",
       "      <td>29</td>\n",
       "      <td>16</td>\n",
       "      <td>16</td>\n",
       "      <td>339</td>\n",
       "      <td>553</td>\n",
       "      <td>3983</td>\n",
       "      <td>...</td>\n",
       "      <td>0</td>\n",
       "      <td>0</td>\n",
       "      <td>0.00</td>\n",
       "      <td>0</td>\n",
       "      <td>14</td>\n",
       "      <td>3</td>\n",
       "      <td>347.9</td>\n",
       "      <td>WilsRu00</td>\n",
       "      <td>1.0</td>\n",
       "      <td>2017</td>\n",
       "    </tr>\n",
       "    <tr>\n",
       "      <th>2</th>\n",
       "      <td>3</td>\n",
       "      <td>Le'Veon Bell</td>\n",
       "      <td>PIT</td>\n",
       "      <td>RB</td>\n",
       "      <td>25</td>\n",
       "      <td>15</td>\n",
       "      <td>15</td>\n",
       "      <td>0</td>\n",
       "      <td>0</td>\n",
       "      <td>0</td>\n",
       "      <td>...</td>\n",
       "      <td>85</td>\n",
       "      <td>655</td>\n",
       "      <td>7.71</td>\n",
       "      <td>2</td>\n",
       "      <td>3</td>\n",
       "      <td>2</td>\n",
       "      <td>341.6</td>\n",
       "      <td>BellLe00</td>\n",
       "      <td>2.0</td>\n",
       "      <td>2017</td>\n",
       "    </tr>\n",
       "    <tr>\n",
       "      <th>3</th>\n",
       "      <td>4</td>\n",
       "      <td>Alvin Kamara</td>\n",
       "      <td>NOR</td>\n",
       "      <td>RB</td>\n",
       "      <td>22</td>\n",
       "      <td>16</td>\n",
       "      <td>3</td>\n",
       "      <td>0</td>\n",
       "      <td>0</td>\n",
       "      <td>0</td>\n",
       "      <td>...</td>\n",
       "      <td>81</td>\n",
       "      <td>826</td>\n",
       "      <td>10.20</td>\n",
       "      <td>5</td>\n",
       "      <td>1</td>\n",
       "      <td>1</td>\n",
       "      <td>320.4</td>\n",
       "      <td>KamaAl00</td>\n",
       "      <td>3.0</td>\n",
       "      <td>2017</td>\n",
       "    </tr>\n",
       "    <tr>\n",
       "      <th>4</th>\n",
       "      <td>5</td>\n",
       "      <td>Antonio Brown</td>\n",
       "      <td>PIT</td>\n",
       "      <td>WR</td>\n",
       "      <td>29</td>\n",
       "      <td>14</td>\n",
       "      <td>14</td>\n",
       "      <td>0</td>\n",
       "      <td>0</td>\n",
       "      <td>0</td>\n",
       "      <td>...</td>\n",
       "      <td>101</td>\n",
       "      <td>1533</td>\n",
       "      <td>15.18</td>\n",
       "      <td>9</td>\n",
       "      <td>4</td>\n",
       "      <td>0</td>\n",
       "      <td>310.3</td>\n",
       "      <td>BrowAn04</td>\n",
       "      <td>1.0</td>\n",
       "      <td>2017</td>\n",
       "    </tr>\n",
       "    <tr>\n",
       "      <th>...</th>\n",
       "      <td>...</td>\n",
       "      <td>...</td>\n",
       "      <td>...</td>\n",
       "      <td>...</td>\n",
       "      <td>...</td>\n",
       "      <td>...</td>\n",
       "      <td>...</td>\n",
       "      <td>...</td>\n",
       "      <td>...</td>\n",
       "      <td>...</td>\n",
       "      <td>...</td>\n",
       "      <td>...</td>\n",
       "      <td>...</td>\n",
       "      <td>...</td>\n",
       "      <td>...</td>\n",
       "      <td>...</td>\n",
       "      <td>...</td>\n",
       "      <td>...</td>\n",
       "      <td>...</td>\n",
       "      <td>...</td>\n",
       "      <td>...</td>\n",
       "    </tr>\n",
       "    <tr>\n",
       "      <th>3383</th>\n",
       "      <td>573</td>\n",
       "      <td>Nate Sudfeld</td>\n",
       "      <td>DET</td>\n",
       "      <td>QB</td>\n",
       "      <td>29</td>\n",
       "      <td>2</td>\n",
       "      <td>0</td>\n",
       "      <td>0</td>\n",
       "      <td>0</td>\n",
       "      <td>0</td>\n",
       "      <td>...</td>\n",
       "      <td>0</td>\n",
       "      <td>0</td>\n",
       "      <td>0.00</td>\n",
       "      <td>0</td>\n",
       "      <td>0</td>\n",
       "      <td>0</td>\n",
       "      <td>-0.4</td>\n",
       "      <td>SudfNa00</td>\n",
       "      <td>80.0</td>\n",
       "      <td>2022</td>\n",
       "    </tr>\n",
       "    <tr>\n",
       "      <th>3384</th>\n",
       "      <td>574</td>\n",
       "      <td>KaVontae Turpin</td>\n",
       "      <td>DAL</td>\n",
       "      <td>WR</td>\n",
       "      <td>26</td>\n",
       "      <td>17</td>\n",
       "      <td>0</td>\n",
       "      <td>0</td>\n",
       "      <td>0</td>\n",
       "      <td>0</td>\n",
       "      <td>...</td>\n",
       "      <td>1</td>\n",
       "      <td>9</td>\n",
       "      <td>9.00</td>\n",
       "      <td>0</td>\n",
       "      <td>3</td>\n",
       "      <td>2</td>\n",
       "      <td>-0.4</td>\n",
       "      <td>TurpKa00</td>\n",
       "      <td>218.0</td>\n",
       "      <td>2022</td>\n",
       "    </tr>\n",
       "    <tr>\n",
       "      <th>3385</th>\n",
       "      <td>575</td>\n",
       "      <td>Chad Henne</td>\n",
       "      <td>KAN</td>\n",
       "      <td>QB</td>\n",
       "      <td>37</td>\n",
       "      <td>3</td>\n",
       "      <td>0</td>\n",
       "      <td>0</td>\n",
       "      <td>2</td>\n",
       "      <td>0</td>\n",
       "      <td>...</td>\n",
       "      <td>0</td>\n",
       "      <td>0</td>\n",
       "      <td>0.00</td>\n",
       "      <td>0</td>\n",
       "      <td>1</td>\n",
       "      <td>0</td>\n",
       "      <td>-0.5</td>\n",
       "      <td>HennCh01</td>\n",
       "      <td>81.0</td>\n",
       "      <td>2022</td>\n",
       "    </tr>\n",
       "    <tr>\n",
       "      <th>3386</th>\n",
       "      <td>576</td>\n",
       "      <td>C.J. Beathard</td>\n",
       "      <td>JAX</td>\n",
       "      <td>QB</td>\n",
       "      <td>29</td>\n",
       "      <td>4</td>\n",
       "      <td>0</td>\n",
       "      <td>7</td>\n",
       "      <td>11</td>\n",
       "      <td>35</td>\n",
       "      <td>...</td>\n",
       "      <td>0</td>\n",
       "      <td>0</td>\n",
       "      <td>0.00</td>\n",
       "      <td>0</td>\n",
       "      <td>0</td>\n",
       "      <td>0</td>\n",
       "      <td>-1.0</td>\n",
       "      <td>BeatC.00</td>\n",
       "      <td>82.0</td>\n",
       "      <td>2022</td>\n",
       "    </tr>\n",
       "    <tr>\n",
       "      <th>3387</th>\n",
       "      <td>577</td>\n",
       "      <td>Tim Boyle</td>\n",
       "      <td>CHI</td>\n",
       "      <td>QB</td>\n",
       "      <td>28</td>\n",
       "      <td>1</td>\n",
       "      <td>0</td>\n",
       "      <td>2</td>\n",
       "      <td>8</td>\n",
       "      <td>33</td>\n",
       "      <td>...</td>\n",
       "      <td>0</td>\n",
       "      <td>0</td>\n",
       "      <td>0.00</td>\n",
       "      <td>0</td>\n",
       "      <td>0</td>\n",
       "      <td>0</td>\n",
       "      <td>-2.9</td>\n",
       "      <td>BoylTi00</td>\n",
       "      <td>83.0</td>\n",
       "      <td>2022</td>\n",
       "    </tr>\n",
       "  </tbody>\n",
       "</table>\n",
       "<p>3388 rows × 27 columns</p>\n",
       "</div>"
      ],
      "text/plain": [
       "       Rk           Player   Tm FantPos  Age   G  GS  Cmp  Att   Yds  ...  \\\n",
       "0       1      Todd Gurley  LAR      RB   23  15  15    0    0     0  ...   \n",
       "1       2   Russell Wilson  SEA      QB   29  16  16  339  553  3983  ...   \n",
       "2       3     Le'Veon Bell  PIT      RB   25  15  15    0    0     0  ...   \n",
       "3       4     Alvin Kamara  NOR      RB   22  16   3    0    0     0  ...   \n",
       "4       5    Antonio Brown  PIT      WR   29  14  14    0    0     0  ...   \n",
       "...   ...              ...  ...     ...  ...  ..  ..  ...  ...   ...  ...   \n",
       "3383  573     Nate Sudfeld  DET      QB   29   2   0    0    0     0  ...   \n",
       "3384  574  KaVontae Turpin  DAL      WR   26  17   0    0    0     0  ...   \n",
       "3385  575       Chad Henne  KAN      QB   37   3   0    0    2     0  ...   \n",
       "3386  576    C.J. Beathard  JAX      QB   29   4   0    7   11    35  ...   \n",
       "3387  577        Tim Boyle  CHI      QB   28   1   0    2    8    33  ...   \n",
       "\n",
       "      Rec  RecYds     YR  RecTD  Fmb  FL    PPR  PlayerID  PosRk  Year  \n",
       "0      64     788  12.31      6    5   2  383.3  GurlTo01    1.0  2017  \n",
       "1       0       0   0.00      0   14   3  347.9  WilsRu00    1.0  2017  \n",
       "2      85     655   7.71      2    3   2  341.6  BellLe00    2.0  2017  \n",
       "3      81     826  10.20      5    1   1  320.4  KamaAl00    3.0  2017  \n",
       "4     101    1533  15.18      9    4   0  310.3  BrowAn04    1.0  2017  \n",
       "...   ...     ...    ...    ...  ...  ..    ...       ...    ...   ...  \n",
       "3383    0       0   0.00      0    0   0   -0.4  SudfNa00   80.0  2022  \n",
       "3384    1       9   9.00      0    3   2   -0.4  TurpKa00  218.0  2022  \n",
       "3385    0       0   0.00      0    1   0   -0.5  HennCh01   81.0  2022  \n",
       "3386    0       0   0.00      0    0   0   -1.0  BeatC.00   82.0  2022  \n",
       "3387    0       0   0.00      0    0   0   -2.9  BoylTi00   83.0  2022  \n",
       "\n",
       "[3388 rows x 27 columns]"
      ]
     },
     "execution_count": 82,
     "metadata": {},
     "output_type": "execute_result"
    }
   ],
   "source": [
    "fantasy_stats = pd.read_csv(fantasy_file)\n",
    "p1_clean = fantasy_stats.fillna(0)\n",
    "p1_clean\n"
   ]
  },
  {
   "cell_type": "code",
   "execution_count": 83,
   "id": "0733ae9c",
   "metadata": {
    "scrolled": true
   },
   "outputs": [
    {
     "name": "stderr",
     "output_type": "stream",
     "text": [
      "/var/folders/j8/8748_dx152l8zz130b5lvd740000gn/T/ipykernel_13298/3754146743.py:1: FutureWarning: The default value of numeric_only in DataFrameGroupBy.sum is deprecated. In a future version, numeric_only will default to False. Either specify numeric_only or select only columns which should be valid for the function.\n",
      "  p1_sum = p1_clean.groupby(\"FantPos\").sum()[\"PPR\"]\n"
     ]
    }
   ],
   "source": [
    "p1_sum = p1_clean.groupby(\"FantPos\").sum()[\"PPR\"]"
   ]
  },
  {
   "cell_type": "code",
   "execution_count": 84,
   "id": "03614c90",
   "metadata": {},
   "outputs": [
    {
     "data": {
      "text/plain": [
       "FantPos\n",
       "QB     52953.1\n",
       "RB     73815.8\n",
       "TE     37636.6\n",
       "WR    106992.1\n",
       "Name: PPR, dtype: float64"
      ]
     },
     "execution_count": 84,
     "metadata": {},
     "output_type": "execute_result"
    }
   ],
   "source": [
    "p1_sum\n"
   ]
  },
  {
   "cell_type": "code",
   "execution_count": 85,
   "id": "e66cbb48",
   "metadata": {},
   "outputs": [],
   "source": [
    "p1_sum = p1_sum.reset_index()"
   ]
  },
  {
   "cell_type": "code",
   "execution_count": 86,
   "id": "b07aed5c",
   "metadata": {},
   "outputs": [
    {
     "data": {
      "text/html": [
       "<div>\n",
       "<style scoped>\n",
       "    .dataframe tbody tr th:only-of-type {\n",
       "        vertical-align: middle;\n",
       "    }\n",
       "\n",
       "    .dataframe tbody tr th {\n",
       "        vertical-align: top;\n",
       "    }\n",
       "\n",
       "    .dataframe thead th {\n",
       "        text-align: right;\n",
       "    }\n",
       "</style>\n",
       "<table border=\"1\" class=\"dataframe\">\n",
       "  <thead>\n",
       "    <tr style=\"text-align: right;\">\n",
       "      <th></th>\n",
       "      <th>FantPos</th>\n",
       "      <th>PPR</th>\n",
       "    </tr>\n",
       "  </thead>\n",
       "  <tbody>\n",
       "    <tr>\n",
       "      <th>0</th>\n",
       "      <td>QB</td>\n",
       "      <td>52953.1</td>\n",
       "    </tr>\n",
       "    <tr>\n",
       "      <th>1</th>\n",
       "      <td>RB</td>\n",
       "      <td>73815.8</td>\n",
       "    </tr>\n",
       "    <tr>\n",
       "      <th>2</th>\n",
       "      <td>TE</td>\n",
       "      <td>37636.6</td>\n",
       "    </tr>\n",
       "    <tr>\n",
       "      <th>3</th>\n",
       "      <td>WR</td>\n",
       "      <td>106992.1</td>\n",
       "    </tr>\n",
       "  </tbody>\n",
       "</table>\n",
       "</div>"
      ],
      "text/plain": [
       "  FantPos       PPR\n",
       "0      QB   52953.1\n",
       "1      RB   73815.8\n",
       "2      TE   37636.6\n",
       "3      WR  106992.1"
      ]
     },
     "execution_count": 86,
     "metadata": {},
     "output_type": "execute_result"
    }
   ],
   "source": [
    "p1_sum"
   ]
  },
  {
   "cell_type": "code",
   "execution_count": 87,
   "id": "192c581d",
   "metadata": {},
   "outputs": [
    {
     "data": {
      "image/png": "[encoded data removed]",
      "text/plain": [
       "<Figure size 640x480 with 1 Axes>"
      ]
     },
     "metadata": {},
     "output_type": "display_data"
    }
   ],
   "source": [
    "plot1 = p1_sum.plot(kind = \"bar\", x= \"FantPos\", y=\"PPR\", color=\"blue\", ylim = (0, 130000), \n",
    "                         ylabel = \"Fantasy Points\", title = \"Total Fantasy Points By Position\")"
   ]
  },
  {
   "cell_type": "code",
   "execution_count": 88,
   "id": "3dd8264d",
   "metadata": {},
   "outputs": [
    {
     "name": "stderr",
     "output_type": "stream",
     "text": [
      "/var/folders/j8/8748_dx152l8zz130b5lvd740000gn/T/ipykernel_13298/1442655499.py:1: FutureWarning: The default value of numeric_only in DataFrameGroupBy.mean is deprecated. In a future version, numeric_only will default to False. Either specify numeric_only or select only columns which should be valid for the function.\n",
      "  p1_avg = p1_clean.groupby(\"FantPos\").mean()[\"PPR\"]\n"
     ]
    }
   ],
   "source": [
    "p1_avg = p1_clean.groupby(\"FantPos\").mean()[\"PPR\"]"
   ]
  },
  {
   "cell_type": "code",
   "execution_count": 89,
   "id": "3250fa68",
   "metadata": {},
   "outputs": [
    {
     "data": {
      "text/plain": [
       "FantPos\n",
       "QB    114.617100\n",
       "RB     77.456243\n",
       "TE     55.675444\n",
       "WR     82.491981\n",
       "Name: PPR, dtype: float64"
      ]
     },
     "execution_count": 89,
     "metadata": {},
     "output_type": "execute_result"
    }
   ],
   "source": [
    "p1_avg"
   ]
  },
  {
   "cell_type": "code",
   "execution_count": 90,
   "id": "02b2c5c2",
   "metadata": {},
   "outputs": [
    {
     "data": {
      "text/html": [
       "<div>\n",
       "<style scoped>\n",
       "    .dataframe tbody tr th:only-of-type {\n",
       "        vertical-align: middle;\n",
       "    }\n",
       "\n",
       "    .dataframe tbody tr th {\n",
       "        vertical-align: top;\n",
       "    }\n",
       "\n",
       "    .dataframe thead th {\n",
       "        text-align: right;\n",
       "    }\n",
       "</style>\n",
       "<table border=\"1\" class=\"dataframe\">\n",
       "  <thead>\n",
       "    <tr style=\"text-align: right;\">\n",
       "      <th></th>\n",
       "      <th>FantPos</th>\n",
       "      <th>PPR</th>\n",
       "    </tr>\n",
       "  </thead>\n",
       "  <tbody>\n",
       "    <tr>\n",
       "      <th>0</th>\n",
       "      <td>QB</td>\n",
       "      <td>114.617100</td>\n",
       "    </tr>\n",
       "    <tr>\n",
       "      <th>1</th>\n",
       "      <td>RB</td>\n",
       "      <td>77.456243</td>\n",
       "    </tr>\n",
       "    <tr>\n",
       "      <th>2</th>\n",
       "      <td>TE</td>\n",
       "      <td>55.675444</td>\n",
       "    </tr>\n",
       "    <tr>\n",
       "      <th>3</th>\n",
       "      <td>WR</td>\n",
       "      <td>82.491981</td>\n",
       "    </tr>\n",
       "  </tbody>\n",
       "</table>\n",
       "</div>"
      ],
      "text/plain": [
       "  FantPos         PPR\n",
       "0      QB  114.617100\n",
       "1      RB   77.456243\n",
       "2      TE   55.675444\n",
       "3      WR   82.491981"
      ]
     },
     "execution_count": 90,
     "metadata": {},
     "output_type": "execute_result"
    }
   ],
   "source": [
    "p1_avg = p1_avg.reset_index()\n",
    "p1_avg\n"
   ]
  },
  {
   "cell_type": "code",
   "execution_count": 93,
   "id": "584e61ba",
   "metadata": {},
   "outputs": [
    {
     "data": {
      "image/png": "[encoded data removed]",
      "text/plain": [
       "<Figure size 640x480 with 1 Axes>"
      ]
     },
     "metadata": {},
     "output_type": "display_data"
    }
   ],
   "source": [
    "plot2 = p1_avg.plot(kind = \"bar\", x= \"FantPos\", y=\"PPR\", color=\"green\", ylim = (0, 150), \n",
    "                         ylabel = \"Fantasy Points\", title = \"Total Fantasy Points By Position\")"
   ]
  },
  {
   "cell_type": "code",
   "execution_count": 34,
   "id": "dfee23e0",
   "metadata": {},
   "outputs": [
    {
     "name": "stderr",
     "output_type": "stream",
     "text": [
      "/var/folders/j8/8748_dx152l8zz130b5lvd740000gn/T/ipykernel_13298/2829375959.py:1: FutureWarning: The default value of numeric_only in DataFrameGroupBy.mean is deprecated. In a future version, numeric_only will default to False. Either specify numeric_only or select only columns which should be valid for the function.\n",
      "  p2 = p1_clean.groupby(\"FantPos\").mean()[\"Age\"]\n"
     ]
    }
   ],
   "source": [
    "p2 = p1_clean.groupby(\"FantPos\").mean()[\"Age\"]"
   ]
  },
  {
   "cell_type": "code",
   "execution_count": 35,
   "id": "0fbdef22",
   "metadata": {},
   "outputs": [
    {
     "data": {
      "text/plain": [
       "FantPos\n",
       "QB    28.417749\n",
       "RB    25.437566\n",
       "TE    26.465976\n",
       "WR    25.705474\n",
       "Name: Age, dtype: float64"
      ]
     },
     "execution_count": 35,
     "metadata": {},
     "output_type": "execute_result"
    }
   ],
   "source": [
    "p2"
   ]
  },
  {
   "cell_type": "code",
   "execution_count": 36,
   "id": "3557afca",
   "metadata": {},
   "outputs": [],
   "source": [
    "p2_df = p2.reset_index()"
   ]
  },
  {
   "cell_type": "code",
   "execution_count": 37,
   "id": "f0b23c9e",
   "metadata": {},
   "outputs": [
    {
     "data": {
      "text/html": [
       "<div>\n",
       "<style scoped>\n",
       "    .dataframe tbody tr th:only-of-type {\n",
       "        vertical-align: middle;\n",
       "    }\n",
       "\n",
       "    .dataframe tbody tr th {\n",
       "        vertical-align: top;\n",
       "    }\n",
       "\n",
       "    .dataframe thead th {\n",
       "        text-align: right;\n",
       "    }\n",
       "</style>\n",
       "<table border=\"1\" class=\"dataframe\">\n",
       "  <thead>\n",
       "    <tr style=\"text-align: right;\">\n",
       "      <th></th>\n",
       "      <th>FantPos</th>\n",
       "      <th>Age</th>\n",
       "    </tr>\n",
       "  </thead>\n",
       "  <tbody>\n",
       "    <tr>\n",
       "      <th>0</th>\n",
       "      <td>QB</td>\n",
       "      <td>28.417749</td>\n",
       "    </tr>\n",
       "    <tr>\n",
       "      <th>1</th>\n",
       "      <td>RB</td>\n",
       "      <td>25.437566</td>\n",
       "    </tr>\n",
       "    <tr>\n",
       "      <th>2</th>\n",
       "      <td>TE</td>\n",
       "      <td>26.465976</td>\n",
       "    </tr>\n",
       "    <tr>\n",
       "      <th>3</th>\n",
       "      <td>WR</td>\n",
       "      <td>25.705474</td>\n",
       "    </tr>\n",
       "  </tbody>\n",
       "</table>\n",
       "</div>"
      ],
      "text/plain": [
       "  FantPos        Age\n",
       "0      QB  28.417749\n",
       "1      RB  25.437566\n",
       "2      TE  26.465976\n",
       "3      WR  25.705474"
      ]
     },
     "execution_count": 37,
     "metadata": {},
     "output_type": "execute_result"
    }
   ],
   "source": [
    "p2_df"
   ]
  },
  {
   "cell_type": "code",
   "execution_count": 94,
   "id": "3b89e2be",
   "metadata": {},
   "outputs": [
    {
     "data": {
      "image/png": "[encoded data removed]",
      "text/plain": [
       "<Figure size 640x480 with 1 Axes>"
      ]
     },
     "metadata": {},
     "output_type": "display_data"
    }
   ],
   "source": [
    "plot2 = p2_df.plot(kind = \"line\", x= \"FantPos\", y=\"Age\", color=\"red\", ylim = (20, 30), \n",
    "                         ylabel = \"Fantasy Points\", title = \"Fantasy Points By Position\")"
   ]
  },
  {
   "cell_type": "code",
   "execution_count": null,
   "id": "d31eb51c",
   "metadata": {},
   "outputs": [],
   "source": []
  }
 ],
 "metadata": {
  "kernelspec": {
   "display_name": "Python 3 (ipykernel)",
   "language": "python",
   "name": "python3"
  },
  "language_info": {
   "codemirror_mode": {
    "name": "ipython",
    "version": 3
   },
   "file_extension": ".py",
   "mimetype": "text/x-python",
   "name": "python",
   "nbconvert_exporter": "python",
   "pygments_lexer": "ipython3",
   "version": "3.11.4"
  }
 },
 "nbformat": 4,
 "nbformat_minor": 5
}
