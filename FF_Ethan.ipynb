{
 "cells": [
  {
   "cell_type": "code",
   "execution_count": 11,
   "id": "40202b3d",
   "metadata": {},
   "outputs": [],
   "source": [
    "import pandas as pd\n",
    "import hvplot.pandas\n",
    "import matplotlib.pyplot as plt\n",
    "import numpy as np\n",
    "import requests\n",
    "from pathlib import Path"
   ]
  },
  {
   "cell_type": "code",
   "execution_count": 12,
   "id": "36e4489a",
   "metadata": {},
   "outputs": [],
   "source": [
    "fantasy_file = Path(\"Resources/fantasy_merged_7_17.csv\")\n",
    "adp_file = Path(\"Resources/adp_merged_7_17.csv\")"
   ]
  },
  {
   "cell_type": "code",
   "execution_count": 13,
   "id": "4c0b6007",
   "metadata": {},
   "outputs": [],
   "source": [
    "fantasy_stats = pd.read_csv(fantasy_file)\n",
    "fantasy_adp = pd.read_csv(adp_file)\n",
    "fantasy_merged = pd.merge(fantasy_stats, fantasy_adp, how=\"left\", on=[\"PlayerID\"])\n",
    "fantasy_merged_clean = fantasy_merged.fillna(0)\n",
    "fantasy_stats_clean = fantasy_stats.fillna(0)"
   ]
  },
  {
   "cell_type": "code",
   "execution_count": 14,
   "id": "bcc70b03",
   "metadata": {},
   "outputs": [
    {
     "name": "stderr",
     "output_type": "stream",
     "text": [
      "/var/folders/y_/xzdtpw157lxfxq97fg75kg4m0000gn/T/ipykernel_1351/2934136355.py:1: FutureWarning: The default value of numeric_only in DataFrameGroupBy.sum is deprecated. In a future version, numeric_only will default to False. Either specify numeric_only or select only columns which should be valid for the function.\n",
      "  fantasy_stats_pos = fantasy_stats_clean.groupby(by= [\"FantPos\",\"Year\"]).sum()[\"PPR\"]\n"
     ]
    }
   ],
   "source": [
    "fantasy_stats_pos = fantasy_stats_clean.groupby(by= [\"FantPos\",\"Year\"]).sum()[\"PPR\"]\n"
   ]
  },
  {
   "cell_type": "code",
   "execution_count": 15,
   "id": "f6137dfd",
   "metadata": {},
   "outputs": [
    {
     "data": {
      "text/plain": [
       "FantPos  Year\n",
       "QB       2017     8005.9\n",
       "         2018     8894.6\n",
       "         2019     8665.0\n",
       "         2020     9481.3\n",
       "         2021     9209.8\n",
       "         2022     8696.5\n",
       "RB       2017    12031.7\n",
       "         2018    12434.6\n",
       "         2019    12240.2\n",
       "         2020    12146.7\n",
       "         2021    12694.1\n",
       "         2022    12268.5\n",
       "TE       2017     5831.9\n",
       "         2018     6069.2\n",
       "         2019     6211.8\n",
       "         2020     6435.0\n",
       "         2021     6614.4\n",
       "         2022     6474.3\n",
       "WR       2017    16144.9\n",
       "         2018    17924.0\n",
       "         2019    17471.2\n",
       "         2020    18908.9\n",
       "         2021    18760.7\n",
       "         2022    17782.4\n",
       "Name: PPR, dtype: float64"
      ]
     },
     "execution_count": 15,
     "metadata": {},
     "output_type": "execute_result"
    }
   ],
   "source": [
    "fantasy_stats_pos"
   ]
  },
  {
   "cell_type": "code",
   "execution_count": 16,
   "id": "6601dbf3",
   "metadata": {},
   "outputs": [],
   "source": [
    "ppr_list =list(fantasy_stats_pos)"
   ]
  },
  {
   "cell_type": "code",
   "execution_count": 17,
   "id": "f3c72c31",
   "metadata": {},
   "outputs": [
    {
     "data": {
      "text/plain": [
       "[8005.9,\n",
       " 8894.6,\n",
       " 8665.0,\n",
       " 9481.3,\n",
       " 9209.8,\n",
       " 8696.5,\n",
       " 12031.7,\n",
       " 12434.6,\n",
       " 12240.2,\n",
       " 12146.7,\n",
       " 12694.1,\n",
       " 12268.5,\n",
       " 5831.9,\n",
       " 6069.2,\n",
       " 6211.8,\n",
       " 6435.0,\n",
       " 6614.4,\n",
       " 6474.3,\n",
       " 16144.9,\n",
       " 17924.0,\n",
       " 17471.2,\n",
       " 18908.9,\n",
       " 18760.7,\n",
       " 17782.4]"
      ]
     },
     "execution_count": 17,
     "metadata": {},
     "output_type": "execute_result"
    }
   ],
   "source": [
    "ppr_list"
   ]
  },
  {
   "cell_type": "code",
   "execution_count": null,
   "id": "e13356a1",
   "metadata": {},
   "outputs": [],
   "source": []
  }
 ],
 "metadata": {
  "kernelspec": {
   "display_name": "Python 3 (ipykernel)",
   "language": "python",
   "name": "python3"
  },
  "language_info": {
   "codemirror_mode": {
    "name": "ipython",
    "version": 3
   },
   "file_extension": ".py",
   "mimetype": "text/x-python",
   "name": "python",
   "nbconvert_exporter": "python",
   "pygments_lexer": "ipython3",
   "version": "3.11.4"
  }
 },
 "nbformat": 4,
 "nbformat_minor": 5
}
